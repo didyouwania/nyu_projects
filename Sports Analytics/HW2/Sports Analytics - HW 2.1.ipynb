{
 "cells": [
  {
   "cell_type": "code",
   "execution_count": 1,
   "metadata": {},
   "outputs": [],
   "source": [
    "import pandas as pd\n",
    "import numpy as np\n",
    "import matplotlib.pyplot as plt\n",
    "import scipy.stats as st\n",
    "from scipy.special import logit, expit\n",
    "import statsmodels.formula.api as smf\n",
    "import statsmodels.api as sm\n",
    "from collections import defaultdict\n",
    "from sklearn.metrics import brier_score_loss\n",
    "pd.set_option('display.max_columns', 50)"
   ]
  },
  {
   "cell_type": "code",
   "execution_count": 2,
   "metadata": {},
   "outputs": [],
   "source": [
    "df = pd.read_csv('soccer18.csv', index_col = False)"
   ]
  },
  {
   "cell_type": "code",
   "execution_count": 3,
   "metadata": {},
   "outputs": [],
   "source": [
    "df = df.sort_values(['Date'])\n",
    "df.loc[:,'GameID'] = df.index\n",
    "df['HGD'] = df.FTHG - df.FTAG\n",
    "df['AGD'] = df.FTAG - df.FTHG"
   ]
  },
  {
   "cell_type": "code",
   "execution_count": 4,
   "metadata": {},
   "outputs": [],
   "source": [
    "goalsh = np.empty(len(df))\n",
    "goalsa = np.empty(len(df))\n",
    "gamesh = np.empty(len(df))\n",
    "gamesa = np.empty(len(df))\n",
    "gdhome = np.empty(len(df))\n",
    "gdaway = np.empty(len(df))\n",
    "total_score = defaultdict(int)\n",
    "total_games = defaultdict(int)\n",
    "total_gd = defaultdict(int)\n",
    "for i in range(len(df)) :\n",
    "    curr_home = df.HomeTeam.iat[i]\n",
    "    curr_away = df.AwayTeam.iat[i]\n",
    "    goalsh[i] = total_score[curr_home]\n",
    "    goalsa[i] = total_score[curr_away]\n",
    "    gamesh[i] = total_games[curr_home]\n",
    "    gamesa[i] = total_games[curr_away]\n",
    "    total_score[curr_home] += df.FTHG.iat[i]\n",
    "    total_score[curr_away] += df.FTAG.iat[i]\n",
    "    total_games[curr_home] += 1\n",
    "    total_games[curr_away] += 1\n",
    "    gdhome[i] = total_gd[curr_home]\n",
    "    gdaway[i] = total_gd[curr_away]\n",
    "    total_gd[curr_home] += df.HGD.iat[i]\n",
    "    total_gd[curr_away] += df.AGD.iat[i]"
   ]
  },
  {
   "cell_type": "code",
   "execution_count": 5,
   "metadata": {},
   "outputs": [],
   "source": [
    "df['home_goals'] = goalsh\n",
    "df['away_goals'] = goalsa\n",
    "df['home_games'] = gamesh\n",
    "df['away_games'] = gamesa\n",
    "df['home_gd'] = gdhome\n",
    "df['away_gd'] = gdaway\n",
    "df['home_agd'] = df['home_gd']/df['home_games']\n",
    "df['away_agd'] = df['away_gd']/df['away_games']\n",
    "df['agd_diff'] = np.abs(df['home_agd'] - df['away_agd'])\n",
    "df = df.fillna(0)\n",
    "df['Home_win'] = (df['FTHG'] - df['FTAG'] > 0).astype(int)\n",
    "dfhw = df.loc[df['Y'] < 18]\n",
    "df18 = df.loc[df['Y'] == 18]"
   ]
  },
  {
   "cell_type": "markdown",
   "metadata": {},
   "source": [
    "## 1.A.i"
   ]
  },
  {
   "cell_type": "code",
   "execution_count": 6,
   "metadata": {},
   "outputs": [
    {
     "data": {
      "text/html": [
       "<div>\n",
       "<style scoped>\n",
       "    .dataframe tbody tr th:only-of-type {\n",
       "        vertical-align: middle;\n",
       "    }\n",
       "\n",
       "    .dataframe tbody tr th {\n",
       "        vertical-align: top;\n",
       "    }\n",
       "\n",
       "    .dataframe thead th {\n",
       "        text-align: right;\n",
       "    }\n",
       "</style>\n",
       "<table border=\"1\" class=\"dataframe\">\n",
       "  <thead>\n",
       "    <tr style=\"text-align: right;\">\n",
       "      <th></th>\n",
       "      <th>Div</th>\n",
       "      <th>Y</th>\n",
       "      <th>HomeTeam</th>\n",
       "      <th>AwayTeam</th>\n",
       "      <th>home_agd</th>\n",
       "      <th>away_agd</th>\n",
       "      <th>agd_diff</th>\n",
       "      <th>home_games</th>\n",
       "      <th>away_games</th>\n",
       "    </tr>\n",
       "  </thead>\n",
       "  <tbody>\n",
       "    <tr>\n",
       "      <th>5326</th>\n",
       "      <td>Ligue_1</td>\n",
       "      <td>14</td>\n",
       "      <td>Evian Thonon Gaillard</td>\n",
       "      <td>Paris SG</td>\n",
       "      <td>-3.5</td>\n",
       "      <td>1.000000</td>\n",
       "      <td>4.500000</td>\n",
       "      <td>2.0</td>\n",
       "      <td>2.0</td>\n",
       "    </tr>\n",
       "    <tr>\n",
       "      <th>7214</th>\n",
       "      <td>Serie_A</td>\n",
       "      <td>14</td>\n",
       "      <td>Sassuolo</td>\n",
       "      <td>Sampdoria</td>\n",
       "      <td>-3.5</td>\n",
       "      <td>1.000000</td>\n",
       "      <td>4.500000</td>\n",
       "      <td>2.0</td>\n",
       "      <td>2.0</td>\n",
       "    </tr>\n",
       "    <tr>\n",
       "      <th>6464</th>\n",
       "      <td>Ligue_1</td>\n",
       "      <td>17</td>\n",
       "      <td>Strasbourg</td>\n",
       "      <td>Lille</td>\n",
       "      <td>-4.0</td>\n",
       "      <td>0.078261</td>\n",
       "      <td>4.078261</td>\n",
       "      <td>1.0</td>\n",
       "      <td>115.0</td>\n",
       "    </tr>\n",
       "    <tr>\n",
       "      <th>1910</th>\n",
       "      <td>La_Liga</td>\n",
       "      <td>14</td>\n",
       "      <td>Cordoba</td>\n",
       "      <td>Celta</td>\n",
       "      <td>-2.0</td>\n",
       "      <td>2.000000</td>\n",
       "      <td>4.000000</td>\n",
       "      <td>1.0</td>\n",
       "      <td>1.0</td>\n",
       "    </tr>\n",
       "    <tr>\n",
       "      <th>1912</th>\n",
       "      <td>La_Liga</td>\n",
       "      <td>14</td>\n",
       "      <td>Elche</td>\n",
       "      <td>Granada</td>\n",
       "      <td>-3.0</td>\n",
       "      <td>1.000000</td>\n",
       "      <td>4.000000</td>\n",
       "      <td>1.0</td>\n",
       "      <td>1.0</td>\n",
       "    </tr>\n",
       "    <tr>\n",
       "      <th>7197</th>\n",
       "      <td>Serie_A</td>\n",
       "      <td>14</td>\n",
       "      <td>Empoli</td>\n",
       "      <td>Roma</td>\n",
       "      <td>-2.0</td>\n",
       "      <td>2.000000</td>\n",
       "      <td>4.000000</td>\n",
       "      <td>1.0</td>\n",
       "      <td>1.0</td>\n",
       "    </tr>\n",
       "    <tr>\n",
       "      <th>7212</th>\n",
       "      <td>Serie_A</td>\n",
       "      <td>14</td>\n",
       "      <td>Palermo</td>\n",
       "      <td>Inter</td>\n",
       "      <td>-0.5</td>\n",
       "      <td>3.500000</td>\n",
       "      <td>4.000000</td>\n",
       "      <td>2.0</td>\n",
       "      <td>2.0</td>\n",
       "    </tr>\n",
       "  </tbody>\n",
       "</table>\n",
       "</div>"
      ],
      "text/plain": [
       "          Div   Y               HomeTeam   AwayTeam  home_agd  away_agd  \\\n",
       "5326  Ligue_1  14  Evian Thonon Gaillard   Paris SG      -3.5  1.000000   \n",
       "7214  Serie_A  14               Sassuolo  Sampdoria      -3.5  1.000000   \n",
       "6464  Ligue_1  17             Strasbourg      Lille      -4.0  0.078261   \n",
       "1910  La_Liga  14                Cordoba      Celta      -2.0  2.000000   \n",
       "1912  La_Liga  14                  Elche    Granada      -3.0  1.000000   \n",
       "7197  Serie_A  14                 Empoli       Roma      -2.0  2.000000   \n",
       "7212  Serie_A  14                Palermo      Inter      -0.5  3.500000   \n",
       "\n",
       "      agd_diff  home_games  away_games  \n",
       "5326  4.500000         2.0         2.0  \n",
       "7214  4.500000         2.0         2.0  \n",
       "6464  4.078261         1.0       115.0  \n",
       "1910  4.000000         1.0         1.0  \n",
       "1912  4.000000         1.0         1.0  \n",
       "7197  4.000000         1.0         1.0  \n",
       "7212  4.000000         2.0         2.0  "
      ]
     },
     "execution_count": 6,
     "metadata": {},
     "output_type": "execute_result"
    }
   ],
   "source": [
    "dfhw = dfhw[['Div','Y','HomeTeam','AwayTeam','home_agd','away_agd','agd_diff','home_games','away_games']]\n",
    "dfhw.nlargest(7, 'agd_diff')"
   ]
  },
  {
   "cell_type": "markdown",
   "metadata": {},
   "source": [
    "## 1.A.ii"
   ]
  },
  {
   "cell_type": "code",
   "execution_count": 7,
   "metadata": {},
   "outputs": [
    {
     "data": {
      "text/html": [
       "<div>\n",
       "<style scoped>\n",
       "    .dataframe tbody tr th:only-of-type {\n",
       "        vertical-align: middle;\n",
       "    }\n",
       "\n",
       "    .dataframe tbody tr th {\n",
       "        vertical-align: top;\n",
       "    }\n",
       "\n",
       "    .dataframe thead th {\n",
       "        text-align: right;\n",
       "    }\n",
       "</style>\n",
       "<table border=\"1\" class=\"dataframe\">\n",
       "  <thead>\n",
       "    <tr style=\"text-align: right;\">\n",
       "      <th></th>\n",
       "      <th>Div</th>\n",
       "      <th>Y</th>\n",
       "      <th>HomeTeam</th>\n",
       "      <th>AwayTeam</th>\n",
       "      <th>home_agd</th>\n",
       "      <th>away_agd</th>\n",
       "      <th>agd_diff</th>\n",
       "      <th>home_games</th>\n",
       "      <th>away_games</th>\n",
       "    </tr>\n",
       "  </thead>\n",
       "  <tbody>\n",
       "    <tr>\n",
       "      <th>2940</th>\n",
       "      <td>La_Liga</td>\n",
       "      <td>16</td>\n",
       "      <td>Granada</td>\n",
       "      <td>Barcelona</td>\n",
       "      <td>-0.875000</td>\n",
       "      <td>2.192308</td>\n",
       "      <td>3.067308</td>\n",
       "      <td>104.0</td>\n",
       "      <td>104.0</td>\n",
       "    </tr>\n",
       "    <tr>\n",
       "      <th>3393</th>\n",
       "      <td>La_Liga</td>\n",
       "      <td>17</td>\n",
       "      <td>Levante</td>\n",
       "      <td>Barcelona</td>\n",
       "      <td>-0.705357</td>\n",
       "      <td>2.140000</td>\n",
       "      <td>2.845357</td>\n",
       "      <td>112.0</td>\n",
       "      <td>150.0</td>\n",
       "    </tr>\n",
       "    <tr>\n",
       "      <th>3008</th>\n",
       "      <td>La_Liga</td>\n",
       "      <td>16</td>\n",
       "      <td>Granada</td>\n",
       "      <td>Real Madrid</td>\n",
       "      <td>-0.936937</td>\n",
       "      <td>1.900000</td>\n",
       "      <td>2.836937</td>\n",
       "      <td>111.0</td>\n",
       "      <td>110.0</td>\n",
       "    </tr>\n",
       "    <tr>\n",
       "      <th>3293</th>\n",
       "      <td>La_Liga</td>\n",
       "      <td>17</td>\n",
       "      <td>Las Palmas</td>\n",
       "      <td>Barcelona</td>\n",
       "      <td>-0.623762</td>\n",
       "      <td>2.208633</td>\n",
       "      <td>2.832395</td>\n",
       "      <td>101.0</td>\n",
       "      <td>139.0</td>\n",
       "    </tr>\n",
       "    <tr>\n",
       "      <th>3370</th>\n",
       "      <td>La_Liga</td>\n",
       "      <td>17</td>\n",
       "      <td>La Coruna</td>\n",
       "      <td>Barcelona</td>\n",
       "      <td>-0.621622</td>\n",
       "      <td>2.142857</td>\n",
       "      <td>2.764479</td>\n",
       "      <td>148.0</td>\n",
       "      <td>147.0</td>\n",
       "    </tr>\n",
       "    <tr>\n",
       "      <th>2921</th>\n",
       "      <td>La_Liga</td>\n",
       "      <td>16</td>\n",
       "      <td>La Coruna</td>\n",
       "      <td>Barcelona</td>\n",
       "      <td>-0.519608</td>\n",
       "      <td>2.225490</td>\n",
       "      <td>2.745098</td>\n",
       "      <td>102.0</td>\n",
       "      <td>102.0</td>\n",
       "    </tr>\n",
       "    <tr>\n",
       "      <th>3190</th>\n",
       "      <td>La_Liga</td>\n",
       "      <td>17</td>\n",
       "      <td>Barcelona</td>\n",
       "      <td>La Coruna</td>\n",
       "      <td>2.186047</td>\n",
       "      <td>-0.527132</td>\n",
       "      <td>2.713178</td>\n",
       "      <td>129.0</td>\n",
       "      <td>129.0</td>\n",
       "    </tr>\n",
       "  </tbody>\n",
       "</table>\n",
       "</div>"
      ],
      "text/plain": [
       "          Div   Y    HomeTeam     AwayTeam  home_agd  away_agd  agd_diff  \\\n",
       "2940  La_Liga  16     Granada    Barcelona -0.875000  2.192308  3.067308   \n",
       "3393  La_Liga  17     Levante    Barcelona -0.705357  2.140000  2.845357   \n",
       "3008  La_Liga  16     Granada  Real Madrid -0.936937  1.900000  2.836937   \n",
       "3293  La_Liga  17  Las Palmas    Barcelona -0.623762  2.208633  2.832395   \n",
       "3370  La_Liga  17   La Coruna    Barcelona -0.621622  2.142857  2.764479   \n",
       "2921  La_Liga  16   La Coruna    Barcelona -0.519608  2.225490  2.745098   \n",
       "3190  La_Liga  17   Barcelona    La Coruna  2.186047 -0.527132  2.713178   \n",
       "\n",
       "      home_games  away_games  \n",
       "2940       104.0       104.0  \n",
       "3393       112.0       150.0  \n",
       "3008       111.0       110.0  \n",
       "3293       101.0       139.0  \n",
       "3370       148.0       147.0  \n",
       "2921       102.0       102.0  \n",
       "3190       129.0       129.0  "
      ]
     },
     "execution_count": 7,
     "metadata": {},
     "output_type": "execute_result"
    }
   ],
   "source": [
    "df1aii = dfhw.loc[(dfhw.home_games >= 100) & (dfhw.away_games >= 100)]\n",
    "df1aii = df1aii[['Div','Y','HomeTeam','AwayTeam','home_agd','away_agd','agd_diff','home_games','away_games']]\n",
    "df1aii.nlargest(7, 'agd_diff')"
   ]
  },
  {
   "cell_type": "markdown",
   "metadata": {},
   "source": [
    "## 1.A.iii"
   ]
  },
  {
   "cell_type": "markdown",
   "metadata": {},
   "source": [
    "Strasbourg was a newly promoted team that had never played in Ligue 1 before. They lost their first game -4 so had a very low average goal difference."
   ]
  },
  {
   "cell_type": "markdown",
   "metadata": {},
   "source": [
    "## 1.B.i"
   ]
  },
  {
   "cell_type": "code",
   "execution_count": 9,
   "metadata": {},
   "outputs": [],
   "source": [
    "dfhw = df.loc[df['Y'] < 18]\n",
    "df18 = df.loc[df['Y'] == 18]"
   ]
  },
  {
   "cell_type": "code",
   "execution_count": 10,
   "metadata": {},
   "outputs": [
    {
     "data": {
      "text/html": [
       "<table class=\"simpletable\">\n",
       "<caption>Generalized Linear Model Regression Results</caption>\n",
       "<tr>\n",
       "  <th>Dep. Variable:</th>       <td>Home_win</td>     <th>  No. Observations:  </th>  <td>  7304</td> \n",
       "</tr>\n",
       "<tr>\n",
       "  <th>Model:</th>                  <td>GLM</td>       <th>  Df Residuals:      </th>  <td>  7303</td> \n",
       "</tr>\n",
       "<tr>\n",
       "  <th>Model Family:</th>        <td>Binomial</td>     <th>  Df Model:          </th>  <td>     0</td> \n",
       "</tr>\n",
       "<tr>\n",
       "  <th>Link Function:</th>         <td>logit</td>      <th>  Scale:             </th> <td>  1.0000</td>\n",
       "</tr>\n",
       "<tr>\n",
       "  <th>Method:</th>                <td>IRLS</td>       <th>  Log-Likelihood:    </th> <td> -5037.4</td>\n",
       "</tr>\n",
       "<tr>\n",
       "  <th>Date:</th>            <td>Wed, 17 Feb 2021</td> <th>  Deviance:          </th> <td>  10075.</td>\n",
       "</tr>\n",
       "<tr>\n",
       "  <th>Time:</th>                <td>21:09:33</td>     <th>  Pearson chi2:      </th> <td>7.30e+03</td>\n",
       "</tr>\n",
       "<tr>\n",
       "  <th>No. Iterations:</th>          <td>4</td>        <th>                     </th>     <td> </td>   \n",
       "</tr>\n",
       "<tr>\n",
       "  <th>Covariance Type:</th>     <td>nonrobust</td>    <th>                     </th>     <td> </td>   \n",
       "</tr>\n",
       "</table>\n",
       "<table class=\"simpletable\">\n",
       "<tr>\n",
       "      <td></td>         <th>coef</th>     <th>std err</th>      <th>z</th>      <th>P>|z|</th>  <th>[0.025</th>    <th>0.975]</th>  \n",
       "</tr>\n",
       "<tr>\n",
       "  <th>Intercept</th> <td>   -0.1669</td> <td>    0.023</td> <td>   -7.106</td> <td> 0.000</td> <td>   -0.213</td> <td>   -0.121</td>\n",
       "</tr>\n",
       "</table>"
      ],
      "text/plain": [
       "<class 'statsmodels.iolib.summary.Summary'>\n",
       "\"\"\"\n",
       "                 Generalized Linear Model Regression Results                  \n",
       "==============================================================================\n",
       "Dep. Variable:               Home_win   No. Observations:                 7304\n",
       "Model:                            GLM   Df Residuals:                     7303\n",
       "Model Family:                Binomial   Df Model:                            0\n",
       "Link Function:                  logit   Scale:                          1.0000\n",
       "Method:                          IRLS   Log-Likelihood:                -5037.4\n",
       "Date:                Wed, 17 Feb 2021   Deviance:                       10075.\n",
       "Time:                        21:09:33   Pearson chi2:                 7.30e+03\n",
       "No. Iterations:                     4                                         \n",
       "Covariance Type:            nonrobust                                         \n",
       "==============================================================================\n",
       "                 coef    std err          z      P>|z|      [0.025      0.975]\n",
       "------------------------------------------------------------------------------\n",
       "Intercept     -0.1669      0.023     -7.106      0.000      -0.213      -0.121\n",
       "==============================================================================\n",
       "\"\"\""
      ]
     },
     "execution_count": 10,
     "metadata": {},
     "output_type": "execute_result"
    }
   ],
   "source": [
    "result = smf.glm('Home_win ~ 1', data = dfhw, family = sm.families.Binomial()).fit()\n",
    "result.summary()"
   ]
  },
  {
   "cell_type": "markdown",
   "metadata": {},
   "source": [
    "## 1.B.ii"
   ]
  },
  {
   "cell_type": "code",
   "execution_count": 11,
   "metadata": {},
   "outputs": [
    {
     "name": "stdout",
     "output_type": "stream",
     "text": [
      "0.2473559477379797\n"
     ]
    }
   ],
   "source": [
    "print(brier_score_loss(df18.Home_win, result.predict(df18)))"
   ]
  },
  {
   "cell_type": "markdown",
   "metadata": {},
   "source": [
    "## 1.D"
   ]
  },
  {
   "cell_type": "code",
   "execution_count": 12,
   "metadata": {},
   "outputs": [
    {
     "data": {
      "text/html": [
       "<table class=\"simpletable\">\n",
       "<caption>Generalized Linear Model Regression Results</caption>\n",
       "<tr>\n",
       "  <th>Dep. Variable:</th>       <td>Home_win</td>     <th>  No. Observations:  </th>  <td>  7304</td> \n",
       "</tr>\n",
       "<tr>\n",
       "  <th>Model:</th>                  <td>GLM</td>       <th>  Df Residuals:      </th>  <td>  7301</td> \n",
       "</tr>\n",
       "<tr>\n",
       "  <th>Model Family:</th>        <td>Binomial</td>     <th>  Df Model:          </th>  <td>     2</td> \n",
       "</tr>\n",
       "<tr>\n",
       "  <th>Link Function:</th>         <td>logit</td>      <th>  Scale:             </th> <td>  1.0000</td>\n",
       "</tr>\n",
       "<tr>\n",
       "  <th>Method:</th>                <td>IRLS</td>       <th>  Log-Likelihood:    </th> <td> -4606.5</td>\n",
       "</tr>\n",
       "<tr>\n",
       "  <th>Date:</th>            <td>Wed, 17 Feb 2021</td> <th>  Deviance:          </th> <td>  9212.9</td>\n",
       "</tr>\n",
       "<tr>\n",
       "  <th>Time:</th>                <td>21:09:40</td>     <th>  Pearson chi2:      </th> <td>7.35e+03</td>\n",
       "</tr>\n",
       "<tr>\n",
       "  <th>No. Iterations:</th>          <td>4</td>        <th>                     </th>     <td> </td>   \n",
       "</tr>\n",
       "<tr>\n",
       "  <th>Covariance Type:</th>     <td>nonrobust</td>    <th>                     </th>     <td> </td>   \n",
       "</tr>\n",
       "</table>\n",
       "<table class=\"simpletable\">\n",
       "<tr>\n",
       "      <td></td>         <th>coef</th>     <th>std err</th>      <th>z</th>      <th>P>|z|</th>  <th>[0.025</th>    <th>0.975]</th>  \n",
       "</tr>\n",
       "<tr>\n",
       "  <th>Intercept</th> <td>   -0.1791</td> <td>    0.025</td> <td>   -7.183</td> <td> 0.000</td> <td>   -0.228</td> <td>   -0.130</td>\n",
       "</tr>\n",
       "<tr>\n",
       "  <th>home_agd</th>  <td>    0.7853</td> <td>    0.039</td> <td>   20.128</td> <td> 0.000</td> <td>    0.709</td> <td>    0.862</td>\n",
       "</tr>\n",
       "<tr>\n",
       "  <th>away_agd</th>  <td>   -0.7619</td> <td>    0.040</td> <td>  -19.082</td> <td> 0.000</td> <td>   -0.840</td> <td>   -0.684</td>\n",
       "</tr>\n",
       "</table>"
      ],
      "text/plain": [
       "<class 'statsmodels.iolib.summary.Summary'>\n",
       "\"\"\"\n",
       "                 Generalized Linear Model Regression Results                  \n",
       "==============================================================================\n",
       "Dep. Variable:               Home_win   No. Observations:                 7304\n",
       "Model:                            GLM   Df Residuals:                     7301\n",
       "Model Family:                Binomial   Df Model:                            2\n",
       "Link Function:                  logit   Scale:                          1.0000\n",
       "Method:                          IRLS   Log-Likelihood:                -4606.5\n",
       "Date:                Wed, 17 Feb 2021   Deviance:                       9212.9\n",
       "Time:                        21:09:40   Pearson chi2:                 7.35e+03\n",
       "No. Iterations:                     4                                         \n",
       "Covariance Type:            nonrobust                                         \n",
       "==============================================================================\n",
       "                 coef    std err          z      P>|z|      [0.025      0.975]\n",
       "------------------------------------------------------------------------------\n",
       "Intercept     -0.1791      0.025     -7.183      0.000      -0.228      -0.130\n",
       "home_agd       0.7853      0.039     20.128      0.000       0.709       0.862\n",
       "away_agd      -0.7619      0.040    -19.082      0.000      -0.840      -0.684\n",
       "==============================================================================\n",
       "\"\"\""
      ]
     },
     "execution_count": 12,
     "metadata": {},
     "output_type": "execute_result"
    }
   ],
   "source": [
    "result2 = smf.glm('Home_win~ home_agd + away_agd', data = dfhw, family = sm.families.Binomial()).fit()\n",
    "result2.summary()"
   ]
  },
  {
   "cell_type": "code",
   "execution_count": 13,
   "metadata": {},
   "outputs": [
    {
     "name": "stdout",
     "output_type": "stream",
     "text": [
      "0.21726101075298784\n"
     ]
    }
   ],
   "source": [
    "print(brier_score_loss(df18.Home_win, result2.predict(df18)))"
   ]
  },
  {
   "cell_type": "code",
   "execution_count": null,
   "metadata": {},
   "outputs": [],
   "source": []
  }
 ],
 "metadata": {
  "kernelspec": {
   "display_name": "Python 3",
   "language": "python",
   "name": "python3"
  },
  "language_info": {
   "codemirror_mode": {
    "name": "ipython",
    "version": 3
   },
   "file_extension": ".py",
   "mimetype": "text/x-python",
   "name": "python",
   "nbconvert_exporter": "python",
   "pygments_lexer": "ipython3",
   "version": "3.8.8"
  }
 },
 "nbformat": 4,
 "nbformat_minor": 4
}
